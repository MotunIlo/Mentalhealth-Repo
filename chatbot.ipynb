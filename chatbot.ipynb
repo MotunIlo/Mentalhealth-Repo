{
 "cells": [
  {
   "cell_type": "code",
   "execution_count": 1,
   "metadata": {},
   "outputs": [],
   "source": [
    "import nltk\n",
    "import random\n",
    "from sklearn.feature_extraction.text import TfidfVectorizer\n",
    "from sklearn.metrics.pairwise import cosine_similarity\n",
    "import pandas as pd\n",
    "import warnings\n",
    "warnings.filterwarnings('ignore')\n",
    "lemmatizer = nltk.stem.WordNetLemmatizer()\n"
   ]
  },
  {
   "cell_type": "code",
   "execution_count": 2,
   "metadata": {},
   "outputs": [
    {
     "data": {
      "text/html": [
       "<div>\n",
       "<style scoped>\n",
       "    .dataframe tbody tr th:only-of-type {\n",
       "        vertical-align: middle;\n",
       "    }\n",
       "\n",
       "    .dataframe tbody tr th {\n",
       "        vertical-align: top;\n",
       "    }\n",
       "\n",
       "    .dataframe thead th {\n",
       "        text-align: right;\n",
       "    }\n",
       "</style>\n",
       "<table border=\"1\" class=\"dataframe\">\n",
       "  <thead>\n",
       "    <tr style=\"text-align: right;\">\n",
       "      <th></th>\n",
       "      <th>Question_ID</th>\n",
       "      <th>Questions</th>\n",
       "      <th>Answers</th>\n",
       "    </tr>\n",
       "  </thead>\n",
       "  <tbody>\n",
       "    <tr>\n",
       "      <th>0</th>\n",
       "      <td>1590140</td>\n",
       "      <td>What does it mean to have a mental illness?</td>\n",
       "      <td>Mental illnesses are health conditions that di...</td>\n",
       "    </tr>\n",
       "    <tr>\n",
       "      <th>1</th>\n",
       "      <td>2110618</td>\n",
       "      <td>Who does mental illness affect?</td>\n",
       "      <td>It is estimated that mental illness affects 1 ...</td>\n",
       "    </tr>\n",
       "    <tr>\n",
       "      <th>2</th>\n",
       "      <td>6361820</td>\n",
       "      <td>What causes mental illness?</td>\n",
       "      <td>It is estimated that mental illness affects 1 ...</td>\n",
       "    </tr>\n",
       "    <tr>\n",
       "      <th>3</th>\n",
       "      <td>9434130</td>\n",
       "      <td>What are some of the warning signs of mental i...</td>\n",
       "      <td>Symptoms of mental health disorders vary depen...</td>\n",
       "    </tr>\n",
       "    <tr>\n",
       "      <th>4</th>\n",
       "      <td>7657263</td>\n",
       "      <td>Can people with mental illness recover?</td>\n",
       "      <td>When healing from mental illness, early identi...</td>\n",
       "    </tr>\n",
       "  </tbody>\n",
       "</table>\n",
       "</div>"
      ],
      "text/plain": [
       "   Question_ID                                          Questions  \\\n",
       "0      1590140        What does it mean to have a mental illness?   \n",
       "1      2110618                    Who does mental illness affect?   \n",
       "2      6361820                        What causes mental illness?   \n",
       "3      9434130  What are some of the warning signs of mental i...   \n",
       "4      7657263            Can people with mental illness recover?   \n",
       "\n",
       "                                             Answers  \n",
       "0  Mental illnesses are health conditions that di...  \n",
       "1  It is estimated that mental illness affects 1 ...  \n",
       "2  It is estimated that mental illness affects 1 ...  \n",
       "3  Symptoms of mental health disorders vary depen...  \n",
       "4  When healing from mental illness, early identi...  "
      ]
     },
     "execution_count": 2,
     "metadata": {},
     "output_type": "execute_result"
    }
   ],
   "source": [
    "data = pd.read_csv('Mental_Health_FAQ.csv')\n",
    "data.head()"
   ]
  },
  {
   "cell_type": "code",
   "execution_count": 3,
   "metadata": {},
   "outputs": [],
   "source": [
    "data.drop('Question_ID' , axis = 1, inplace = True)"
   ]
  },
  {
   "cell_type": "code",
   "execution_count": 4,
   "metadata": {},
   "outputs": [
    {
     "data": {
      "text/html": [
       "<div>\n",
       "<style scoped>\n",
       "    .dataframe tbody tr th:only-of-type {\n",
       "        vertical-align: middle;\n",
       "    }\n",
       "\n",
       "    .dataframe tbody tr th {\n",
       "        vertical-align: top;\n",
       "    }\n",
       "\n",
       "    .dataframe thead th {\n",
       "        text-align: right;\n",
       "    }\n",
       "</style>\n",
       "<table border=\"1\" class=\"dataframe\">\n",
       "  <thead>\n",
       "    <tr style=\"text-align: right;\">\n",
       "      <th></th>\n",
       "      <th>Questions</th>\n",
       "      <th>Answers</th>\n",
       "      <th>tokenized Questions</th>\n",
       "    </tr>\n",
       "  </thead>\n",
       "  <tbody>\n",
       "    <tr>\n",
       "      <th>0</th>\n",
       "      <td>What does it mean to have a mental illness?</td>\n",
       "      <td>Mental illnesses are health conditions that di...</td>\n",
       "      <td>what doe it mean to have a mental illness</td>\n",
       "    </tr>\n",
       "    <tr>\n",
       "      <th>1</th>\n",
       "      <td>Who does mental illness affect?</td>\n",
       "      <td>It is estimated that mental illness affects 1 ...</td>\n",
       "      <td>who doe mental illness affect</td>\n",
       "    </tr>\n",
       "    <tr>\n",
       "      <th>2</th>\n",
       "      <td>What causes mental illness?</td>\n",
       "      <td>It is estimated that mental illness affects 1 ...</td>\n",
       "      <td>what cause mental illness</td>\n",
       "    </tr>\n",
       "    <tr>\n",
       "      <th>3</th>\n",
       "      <td>What are some of the warning signs of mental i...</td>\n",
       "      <td>Symptoms of mental health disorders vary depen...</td>\n",
       "      <td>what are some of the warning sign of mental il...</td>\n",
       "    </tr>\n",
       "    <tr>\n",
       "      <th>4</th>\n",
       "      <td>Can people with mental illness recover?</td>\n",
       "      <td>When healing from mental illness, early identi...</td>\n",
       "      <td>can people with mental illness recover</td>\n",
       "    </tr>\n",
       "    <tr>\n",
       "      <th>...</th>\n",
       "      <td>...</td>\n",
       "      <td>...</td>\n",
       "      <td>...</td>\n",
       "    </tr>\n",
       "    <tr>\n",
       "      <th>93</th>\n",
       "      <td>How do I know if I'm drinking too much?</td>\n",
       "      <td>Sorting out if you are drinking too much can b...</td>\n",
       "      <td>how do i know if i drinking too much</td>\n",
       "    </tr>\n",
       "    <tr>\n",
       "      <th>94</th>\n",
       "      <td>If cannabis is dangerous, why are we legalizin...</td>\n",
       "      <td>Cannabis smoke, for example, contains cancer-c...</td>\n",
       "      <td>if cannabis is dangerous why are we legalizing it</td>\n",
       "    </tr>\n",
       "    <tr>\n",
       "      <th>95</th>\n",
       "      <td>How can I convince my kids not to use drugs?</td>\n",
       "      <td>You can't. But you can influence their capacit...</td>\n",
       "      <td>how can i convince my kid not to use drug</td>\n",
       "    </tr>\n",
       "    <tr>\n",
       "      <th>96</th>\n",
       "      <td>What is the legal status (and evidence) of CBD...</td>\n",
       "      <td>Cannabidiol or CBD is a naturally occurring co...</td>\n",
       "      <td>what is the legal status and evidence of cbd oil</td>\n",
       "    </tr>\n",
       "    <tr>\n",
       "      <th>97</th>\n",
       "      <td>What is the evidence on vaping?</td>\n",
       "      <td>\"Vaping\" is the term for using a device where ...</td>\n",
       "      <td>what is the evidence on vaping</td>\n",
       "    </tr>\n",
       "  </tbody>\n",
       "</table>\n",
       "<p>98 rows × 3 columns</p>\n",
       "</div>"
      ],
      "text/plain": [
       "                                            Questions  \\\n",
       "0         What does it mean to have a mental illness?   \n",
       "1                     Who does mental illness affect?   \n",
       "2                         What causes mental illness?   \n",
       "3   What are some of the warning signs of mental i...   \n",
       "4             Can people with mental illness recover?   \n",
       "..                                                ...   \n",
       "93            How do I know if I'm drinking too much?   \n",
       "94  If cannabis is dangerous, why are we legalizin...   \n",
       "95       How can I convince my kids not to use drugs?   \n",
       "96  What is the legal status (and evidence) of CBD...   \n",
       "97                    What is the evidence on vaping?   \n",
       "\n",
       "                                              Answers  \\\n",
       "0   Mental illnesses are health conditions that di...   \n",
       "1   It is estimated that mental illness affects 1 ...   \n",
       "2   It is estimated that mental illness affects 1 ...   \n",
       "3   Symptoms of mental health disorders vary depen...   \n",
       "4   When healing from mental illness, early identi...   \n",
       "..                                                ...   \n",
       "93  Sorting out if you are drinking too much can b...   \n",
       "94  Cannabis smoke, for example, contains cancer-c...   \n",
       "95  You can't. But you can influence their capacit...   \n",
       "96  Cannabidiol or CBD is a naturally occurring co...   \n",
       "97  \"Vaping\" is the term for using a device where ...   \n",
       "\n",
       "                                  tokenized Questions  \n",
       "0           what doe it mean to have a mental illness  \n",
       "1                       who doe mental illness affect  \n",
       "2                           what cause mental illness  \n",
       "3   what are some of the warning sign of mental il...  \n",
       "4              can people with mental illness recover  \n",
       "..                                                ...  \n",
       "93               how do i know if i drinking too much  \n",
       "94  if cannabis is dangerous why are we legalizing it  \n",
       "95          how can i convince my kid not to use drug  \n",
       "96   what is the legal status and evidence of cbd oil  \n",
       "97                     what is the evidence on vaping  \n",
       "\n",
       "[98 rows x 3 columns]"
      ]
     },
     "execution_count": 4,
     "metadata": {},
     "output_type": "execute_result"
    }
   ],
   "source": [
    "# Define a function for text preprocessing (including lemmatization)\n",
    "def preprocess_text(text):\n",
    "    sentences = nltk.sent_tokenize(text)\n",
    "    \n",
    "    preprocessed_sentences = []\n",
    "    for sentence in sentences:\n",
    "        tokens = [lemmatizer.lemmatize(word.lower()) for word in nltk.word_tokenize(sentence) if word.isalnum()]\n",
    "       \n",
    "        preprocessed_sentence = ' '.join(tokens)\n",
    "        preprocessed_sentences.append(preprocessed_sentence)\n",
    "    \n",
    "    return ' '.join(preprocessed_sentences)\n",
    "\n",
    "\n",
    "data['tokenized Questions'] = data['Questions'].apply(preprocess_text)\n",
    "data"
   ]
  },
  {
   "cell_type": "code",
   "execution_count": 5,
   "metadata": {},
   "outputs": [
    {
     "data": {
      "text/plain": [
       "['what doe it mean to have a mental illness',\n",
       " 'who doe mental illness affect',\n",
       " 'what cause mental illness',\n",
       " 'what are some of the warning sign of mental illness',\n",
       " 'can people with mental illness recover',\n",
       " 'what should i do if i know someone who appears to have the symptom of a mental disorder',\n",
       " 'how can i find a mental health professional for myself or my child',\n",
       " 'what treatment option are available',\n",
       " 'if i become involved in treatment what do i need to know',\n",
       " 'what is the difference between mental health professional',\n",
       " 'how can i find a mental health professional right for my child or myself',\n",
       " 'if i become involved in treatment what do i need to know',\n",
       " 'where else can i get help',\n",
       " 'what should i know before starting a new medication',\n",
       " 'if i feel better after taking medication doe this mean i am cured and can stop taking it',\n",
       " 'how can i get help paying for my medication',\n",
       " 'where can i go to find therapy',\n",
       " 'where can i learn about type of mental health treatment',\n",
       " 'what are the different type of mental health professional',\n",
       " 'where can i go to find a support group',\n",
       " 'where can i go to find inpatient care',\n",
       " 'where can i go to find other local service',\n",
       " 'where can i learn more information about clinical trial',\n",
       " 'where can i learn more information about creating a psychiatric advance directive',\n",
       " 'what is mental health',\n",
       " 'what do i do if the support doesn t help',\n",
       " 'can you prevent mental health problem',\n",
       " 'are there cure for mental health problem',\n",
       " 'what cause mental health problem',\n",
       " 'what do i do if i m worried about my mental health',\n",
       " 'how do i know if i m unwell',\n",
       " 'what should i do if i m worried about a friend or relative',\n",
       " 'how do i deal with someone telling me what to do',\n",
       " 'why do i need to keep informed',\n",
       " 'how can i tell if health information is good or bad',\n",
       " 'why do i need a plan',\n",
       " 'how can i maintain social connection what if i feel lonely',\n",
       " 'how can i take care of my physical health',\n",
       " 'how can i use distraction to manage difficult thought or feeling',\n",
       " 'how can i reframe the situation and find more balanced perspective',\n",
       " 'how can i challenge thinking trap',\n",
       " 'how can i manage grief',\n",
       " 'how can i find a doctor psychiatrist psychologist or counsellor',\n",
       " 'how can i see a psychiatrist',\n",
       " 'how can i see a psychologist',\n",
       " 'how can i see a counsellor',\n",
       " 'how can i find a support group',\n",
       " 'where can i find child and youth mental health service',\n",
       " 'where can older adult find help for mental health concern',\n",
       " 'where can i find material for depression',\n",
       " 'where can i find material for anxiety',\n",
       " 'i m having a hard time coping with a physical health problem where can i find help',\n",
       " 'when is substance use a problem where can i go for help',\n",
       " 'where can i find free or counselling',\n",
       " 'can i get help paying for prescription medication',\n",
       " 'how can i pay for mental health care',\n",
       " 'how do i apply for income assistance',\n",
       " 'what is msp',\n",
       " 'what is a referral',\n",
       " 'what the difference between a psychiatrist and a registered psychologist',\n",
       " 'what the difference between psychotherapy and counselling',\n",
       " 'what the difference between cbt and dbt',\n",
       " 'what the difference between antidepressant',\n",
       " 'i received a diagnosis but i don t think it s right what can i do',\n",
       " 'i wa prescribed an antidepressant or other psychiatric medication but i don t think it s working what can i do',\n",
       " 'an adult in my life seems ill and won t find help what can i do',\n",
       " 'i m worried about my child or teenager where can i find help',\n",
       " 'someone i care about ha a brain injury where can i find more information',\n",
       " 'someone i love ha been diagnosed with depression how can i help',\n",
       " 'someone i love ha been diagnosed with schizophrenia how can i help',\n",
       " 'i m a young person and one of my parent ha a mental illness what can i do',\n",
       " 'i have thought of suicide or someone i care about is talking about suicide what should i do',\n",
       " 'cannabis is legally allowed to but there are doctor group saying it s potentially harmful to age 25 any use or certain use what s myth and what s fact if i m a parent what should i tell my young adult',\n",
       " 'what the difference between mental health and mental illness',\n",
       " 'where can i find more information about depression',\n",
       " 'what s the difference between anxiety and an anxiety disorder',\n",
       " 'what the difference between anxiety and stress',\n",
       " 'what the difference between sadness and depression',\n",
       " 'what is dysthymia or persistent depressive disorder',\n",
       " 'what is cyclothymic disorder',\n",
       " 'what doe rapid cycling mean',\n",
       " 'where can i find information and help for borderline personality disorder',\n",
       " 'what is schizoid personality disorder',\n",
       " 'what is antisocial personality disorder',\n",
       " 'what is personality disorder',\n",
       " 'what is disorder',\n",
       " 'what s the difference between dissociative identity disorder multiple personality disorder and schizophrenia',\n",
       " 'what the difference between psychosis and schizophrenia',\n",
       " 'what are positive and negative symptom',\n",
       " 'what is a prodrome',\n",
       " 'i m an adult and i think i might have adhd what can i do next',\n",
       " 'what s the difference between substance use and addiction',\n",
       " 'how can i find help for an alcohol or drug use problem',\n",
       " 'how do i know if i drinking too much',\n",
       " 'if cannabis is dangerous why are we legalizing it',\n",
       " 'how can i convince my kid not to use drug',\n",
       " 'what is the legal status and evidence of cbd oil',\n",
       " 'what is the evidence on vaping']"
      ]
     },
     "execution_count": 5,
     "metadata": {},
     "output_type": "execute_result"
    }
   ],
   "source": [
    "x = data['tokenized Questions'].to_list()\n",
    "x"
   ]
  },
  {
   "cell_type": "code",
   "execution_count": 6,
   "metadata": {},
   "outputs": [],
   "source": [
    "tfidf_vectorizer = TfidfVectorizer()\n",
    "corpus = tfidf_vectorizer.fit_transform(x)"
   ]
  },
  {
   "cell_type": "code",
   "execution_count": 7,
   "metadata": {},
   "outputs": [
    {
     "name": "stdout",
     "output_type": "stream",
     "text": [
      "  (0, 101)\t0.36441743462193266\n",
      "  (0, 128)\t0.2595599997967565\n",
      "  (0, 93)\t0.4131356340148716\n",
      "  (0, 216)\t0.3064104920291124\n",
      "  (0, 126)\t0.4362655661041626\n",
      "  (0, 110)\t0.3782586235113424\n",
      "  (0, 70)\t0.4131356340148716\n",
      "  (0, 228)\t0.1765554179540623\n"
     ]
    }
   ],
   "source": [
    "print(corpus[0])"
   ]
  },
  {
   "cell_type": "code",
   "execution_count": 8,
   "metadata": {},
   "outputs": [],
   "source": [
    "user = input('Pls ask your question:')"
   ]
  },
  {
   "cell_type": "code",
   "execution_count": 9,
   "metadata": {},
   "outputs": [],
   "source": [
    "pre_user = preprocess_text(user)"
   ]
  },
  {
   "cell_type": "code",
   "execution_count": 10,
   "metadata": {},
   "outputs": [
    {
     "name": "stdout",
     "output_type": "stream",
     "text": [
      "  (0, 201)\t0.6334072423400151\n",
      "  (0, 142)\t0.4786495841678201\n",
      "  (0, 128)\t0.35274059629975063\n",
      "  (0, 101)\t0.49524126711057365\n"
     ]
    }
   ],
   "source": [
    "vect_user = tfidf_vectorizer.transform([pre_user])\n",
    "print(vect_user)"
   ]
  },
  {
   "cell_type": "code",
   "execution_count": 11,
   "metadata": {},
   "outputs": [
    {
     "data": {
      "text/plain": [
       "array([[0.2720319 , 0.29571   , 0.40616313, 0.46621081, 0.28625023,\n",
       "        0.395359  , 0.08495803, 0.        , 0.        , 0.1099656 ,\n",
       "        0.07797767, 0.        , 0.        , 0.        , 0.        ,\n",
       "        0.        , 0.        , 0.25166333, 0.24230034, 0.        ,\n",
       "        0.        , 0.        , 0.        , 0.        , 0.18215682,\n",
       "        0.        , 0.10010101, 0.09196495, 0.1248878 , 0.09203568,\n",
       "        0.        , 0.        , 0.        , 0.        , 0.        ,\n",
       "        0.        , 0.        , 0.16569655, 0.        , 0.        ,\n",
       "        0.        , 0.        , 0.        , 0.        , 0.        ,\n",
       "        0.        , 0.        , 0.09007833, 0.08386254, 0.        ,\n",
       "        0.        , 0.        , 0.        , 0.        , 0.        ,\n",
       "        0.10605391, 0.        , 0.        , 0.        , 0.        ,\n",
       "        0.        , 0.        , 0.        , 0.        , 0.        ,\n",
       "        0.        , 0.        , 0.        , 0.        , 0.        ,\n",
       "        0.33181646, 0.09735276, 0.        , 0.39393652, 0.        ,\n",
       "        0.        , 0.        , 0.        , 0.        , 0.        ,\n",
       "        0.        , 0.        , 0.        , 0.        , 0.        ,\n",
       "        0.        , 0.        , 0.        , 0.30014486, 0.        ,\n",
       "        0.        , 0.        , 0.        , 0.        , 0.        ,\n",
       "        0.        , 0.1323234 , 0.        ]])"
      ]
     },
     "execution_count": 11,
     "metadata": {},
     "output_type": "execute_result"
    }
   ],
   "source": [
    "similarity_scores = cosine_similarity(vect_user, corpus)\n",
    "similarity_scores"
   ]
  },
  {
   "cell_type": "code",
   "execution_count": 12,
   "metadata": {},
   "outputs": [
    {
     "data": {
      "text/plain": [
       "3"
      ]
     },
     "execution_count": 12,
     "metadata": {},
     "output_type": "execute_result"
    }
   ],
   "source": [
    "most_similar_index = similarity_scores.argmax()\n",
    "most_similar_index"
   ]
  },
  {
   "cell_type": "code",
   "execution_count": 13,
   "metadata": {},
   "outputs": [
    {
     "data": {
      "text/plain": [
       "'Symptoms of mental health disorders vary depending on the type and severity of the condition. The following is a list of general symptoms that may suggest a mental health disorder, particularly when multiple symptoms are expressed at once.\\nIn adults:\\nConfused thinking\\nLong-lasting sadness or irritability\\nExtreme highs and lows in mood\\nExcessive fear, worrying, or anxiety\\nSocial withdrawal\\nDramatic changes in eating or sleeping habits\\nStrong feelings of anger\\nDelusions or hallucinations (seeing or hearing things that are not really there)\\nIncreasing inability to cope with daily problems and activities\\nThoughts of suicide\\nDenial of obvious problems\\nMany unexplained physical problems\\nAbuse of drugs and/or alcohol\\n  In older children and pre-teens:\\nAbuse of drugs and/or alcohol\\nInability to cope with daily problems and activities\\nChanges in sleeping and/or eating habits\\nExcessive complaints of physical problems\\nDefying authority, skipping school, stealing, or damaging property\\nIntense fear of gaining weight\\nLong-lasting negative mood, often along with poor appetite and thoughts of death\\nFrequent outbursts of anger\\n  In younger children:\\nChanges in school performance\\nPoor grades despite strong efforts\\nExcessive worrying or anxiety\\nHyperactivity\\nPersistent nightmares\\nPersistent disobedience and/or aggressive behavior\\nFrequent temper tantrums'"
      ]
     },
     "execution_count": 13,
     "metadata": {},
     "output_type": "execute_result"
    }
   ],
   "source": [
    "data['Answers'].iloc[most_similar_index]"
   ]
  },
  {
   "cell_type": "code",
   "execution_count": 14,
   "metadata": {},
   "outputs": [
    {
     "data": {
      "text/plain": [
       "'It is often more realistic and helpful to find out what helps with the issues you face. Talking, counselling, medication, friendships, exercise, good sleep and nutrition, and meaningful occupation can all help.'"
      ]
     },
     "execution_count": 14,
     "metadata": {},
     "output_type": "execute_result"
    }
   ],
   "source": [
    "def collector():\n",
    "    user = input('Pls ask your question:')\n",
    "    pre_user = preprocess_text(user)\n",
    "    vect_user = tfidf_vectorizer.transform([pre_user])\n",
    "    similarity_scores = cosine_similarity(vect_user, corpus)\n",
    "    most_similar_index = similarity_scores.argmax()\n",
    "\n",
    "     \n",
    "    return(data['Answers'].iloc[most_similar_index])\n",
    "\n",
    "collector()"
   ]
  },
  {
   "cell_type": "code",
   "execution_count": 15,
   "metadata": {},
   "outputs": [
    {
     "name": "stdout",
     "output_type": "stream",
     "text": [
      "\n",
      "Chatbot: Symptoms of mental health disorders vary depending on the type and severity of the condition. The following is a list of general symptoms that may suggest a mental health disorder, particularly when multiple symptoms are expressed at once.\n",
      "In adults:\n",
      "Confused thinking\n",
      "Long-lasting sadness or irritability\n",
      "Extreme highs and lows in mood\n",
      "Excessive fear, worrying, or anxiety\n",
      "Social withdrawal\n",
      "Dramatic changes in eating or sleeping habits\n",
      "Strong feelings of anger\n",
      "Delusions or hallucinations (seeing or hearing things that are not really there)\n",
      "Increasing inability to cope with daily problems and activities\n",
      "Thoughts of suicide\n",
      "Denial of obvious problems\n",
      "Many unexplained physical problems\n",
      "Abuse of drugs and/or alcohol\n",
      "  In older children and pre-teens:\n",
      "Abuse of drugs and/or alcohol\n",
      "Inability to cope with daily problems and activities\n",
      "Changes in sleeping and/or eating habits\n",
      "Excessive complaints of physical problems\n",
      "Defying authority, skipping school, stealing, or damaging property\n",
      "Intense fear of gaining weight\n",
      "Long-lasting negative mood, often along with poor appetite and thoughts of death\n",
      "Frequent outbursts of anger\n",
      "  In younger children:\n",
      "Changes in school performance\n",
      "Poor grades despite strong efforts\n",
      "Excessive worrying or anxiety\n",
      "Hyperactivity\n",
      "Persistent nightmares\n",
      "Persistent disobedience and/or aggressive behavior\n",
      "Frequent temper tantrums\n",
      "\n",
      "Chatbot: Bye... come back soon!\n"
     ]
    }
   ],
   "source": [
    "def get_response(user_input):\n",
    "    user_input_processed = preprocess_text(user_input)\n",
    "\n",
    "    user_input_vector = tfidf_vectorizer.transform([user_input_processed])\n",
    "\n",
    "    similarity_scores = cosine_similarity(user_input_vector, corpus) \n",
    "\n",
    "    most_similar_index = similarity_scores.argmax() \n",
    "    return data['Answers'].iloc[most_similar_index] \n",
    "\n",
    "# create greeting list \n",
    "greetings = [\"Hey There.... I am a creation of Motun Agba Coder.... How can I help\",\n",
    "            \"Hi Human.... How can I help\",\n",
    "            'Twale baba nla, wetin dey happen nah',\n",
    "            'How far Alaye, wetin happen'\n",
    "            \"Good Day .... How can I help\", \n",
    "            \"Hello There... How can I be useful to you today\",\n",
    "            \"Hi GomyCode Student.... How can I be of use\"]\n",
    "\n",
    "exits = ['thanks bye', 'bye', 'quit', 'exit', 'bye bye', 'close']\n",
    "farewell = ['Thanks....see you soon', 'Babye, See you soon', 'Bye... See you later', 'Bye... come back soon']\n",
    "\n",
    "random_farewell = random.choice(farewell) \n",
    "random_greetings = random.choice(greetings) \n",
    "\n",
    "# Test your chatbot\n",
    "while True:\n",
    "    user_input = input(\"You: \")\n",
    "    if user_input.lower() in exits:\n",
    "        print(f\"\\nChatbot: {random_farewell}!\")\n",
    "        break\n",
    "    if user_input.lower() in ['hi', 'hello', 'hey', 'hi there']:\n",
    "        print(f\"\\nChatbot: {random_greetings}!\")\n",
    "    else:   \n",
    "        response = get_response(user_input)\n",
    "        print(f\"\\nChatbot: {response}\")"
   ]
  }
 ],
 "metadata": {
  "kernelspec": {
   "display_name": "Python 3",
   "language": "python",
   "name": "python3"
  },
  "language_info": {
   "codemirror_mode": {
    "name": "ipython",
    "version": 3
   },
   "file_extension": ".py",
   "mimetype": "text/x-python",
   "name": "python",
   "nbconvert_exporter": "python",
   "pygments_lexer": "ipython3",
   "version": "3.11.7"
  }
 },
 "nbformat": 4,
 "nbformat_minor": 2
}
